{
 "cells": [
  {
   "cell_type": "markdown",
   "id": "f821b4fe-4552-4066-8df2-73ce48ab6356",
   "metadata": {},
   "source": [
    "### 10th Feb_AssQ - Files"
   ]
  },
  {
   "cell_type": "markdown",
   "id": "ea8397d7-30d2-422d-9982-1bc859616597",
   "metadata": {},
   "source": []
  },
  {
   "cell_type": "markdown",
   "id": "1aa52e03-290a-4617-b3b0-051f01a687df",
   "metadata": {},
   "source": [
    "##### Q1. Which function is used to open a file? What are the different modes of opening a file? Explain each mode of file opening."
   ]
  },
  {
   "cell_type": "markdown",
   "id": "3692d399-7dd3-4496-8a58-9aa6e46b58ea",
   "metadata": {},
   "source": [
    "Ans:01\n",
    "\n",
    "> In most programming languages, including Python, the function used to open a file is typically called open(). It allows you to open a file and perform various operations on it, such as reading from it, writing to it, or both.\n",
    "\n",
    "- The open() function in Python takes two parameters: the file name or file path, and the mode in which you want to open the file. The mode specifies the intended operation on the file. Here are the different modes of opening a file:\n",
    "\n",
    "1. Read mode ('r'): This is the default mode when no mode is specified. It is used for reading data from an existing file. If the file does not exist, an error will occur.\n",
    "\n",
    "2. Write mode ('w'): This mode is used for writing data to a file. If the file does not exist, a new file will be created. If the file already exists, the previous contents of the file will be overwritten.\n",
    "\n",
    "3. Append mode ('a'): This mode is used for appending data to the end of an existing file. If the file does not exist, a new file will be created. Unlike write mode, the contents are added to the end of the file without overwriting existing data.\n",
    "\n",
    "4. Binary mode ('b'): This mode is used when working with binary files, such as images or executables. It is typically used in combination with read ('rb') or write ('wb') modes.\n",
    "\n",
    "5. Exclusive creation mode ('x'): This mode is used to create a new file and open it for writing. If the file already exists, an error will occur.\n",
    "\n",
    "6. Read and write mode ('r+' or 'w+'): This mode allows both reading and writing to a file. It opens the file for both reading and writing, but it truncates the file initially, i.e., it clears the contents of an existing file or creates a new file.\n",
    "\n",
    "7. Append and read mode ('a+'): This mode allows both reading and appending to a file. It opens the file for both reading and appending. The data can be read from the existing file, and new data can be appended to the end of the file.\n",
    "\n",
    "> These are the common modes used when opening files in programming languages like Python. Depending on your specific requirements, you can choose the appropriate mode to open a file and perform the desired operations."
   ]
  },
  {
   "cell_type": "markdown",
   "id": "007e0438-e013-4c7c-9b80-1f324248c794",
   "metadata": {},
   "source": []
  },
  {
   "cell_type": "markdown",
   "id": "83d4b1fd-f591-4d43-a521-cd899a5e9b58",
   "metadata": {},
   "source": [
    "##### Q2. Why close() function is used? Why is it important to close a file?"
   ]
  },
  {
   "cell_type": "markdown",
   "id": "69750c38-09d2-4330-adc4-86107feb5e7c",
   "metadata": {},
   "source": [
    "Ans:02\n",
    "\n",
    "> The close() function is used to close a file that has been opened using the open() function or any equivalent function in a programming language. It is important to close a file after you have finished working with it. Here are the reasons why:\n",
    "\n",
    "1. Resource Management: When a file is opened, system resources such as file buffers and operating system handles are allocated to handle the operations on the file. If you don't close the file properly, these resources may not be released until the program terminates, potentially leading to resource leaks or unnecessary resource usage. By explicitly calling close(), you ensure that the resources associated with the file are freed up immediately.\n",
    "\n",
    "2. Data Integrity: When you write data to a file, the data is typically stored in a buffer before it is physically written to the disk. Closing the file using close() ensures that any pending data in the buffer is written to the disk before the file is closed. If you don't close the file, the buffered data may not be saved, resulting in data loss or incomplete writes.\n",
    "\n",
    "3. File Access by Other Programs: In some cases, other programs or processes may need to access the file you have opened. If you don't close the file, it may remain locked or inaccessible to other programs, causing potential conflicts and issues. By closing the file, you release the lock and allow other programs to access it if needed.\n",
    "\n",
    "4. Good Programming Practice: Closing files after you have finished working with them is considered good programming practice. It helps in maintaining clean and organized code by explicitly indicating the end of file operations. It also promotes efficient resource utilization and prevents potential issues that may arise from leaving files open.\n",
    "\n",
    "> It is worth noting that some programming languages and frameworks automatically close files when they go out of scope or when the program terminates. However, it is still a good practice to explicitly close files using the close() function as soon as you no longer need them, rather than relying solely on automatic mechanisms.\n",
    "\n",
    "> In summary, the close() function is important to release system resources, ensure data integrity, allow access to the file by other programs, and follow good programming practices."
   ]
  },
  {
   "cell_type": "markdown",
   "id": "361e53a9-fe5a-4339-b195-a9f877154715",
   "metadata": {},
   "source": []
  },
  {
   "cell_type": "markdown",
   "id": "59a8f8cb-58a9-405c-a936-b7926cdb9b9a",
   "metadata": {},
   "source": [
    "##### Q3. Write a python program to create a text file. Write ‘I want to become a Data Scientist’ in that file. Then close the file. Open this file and read the content of the file."
   ]
  },
  {
   "cell_type": "markdown",
   "id": "f4abf4fa-caae-47a1-8c60-dec33f3e1072",
   "metadata": {},
   "source": [
    "Ans:03\n",
    "\n",
    "- Here's a Python program that creates a text file, writes the sentence \"I want to become a Data Scientist\" into the file, closes it, and then opens the file to read its contents:"
   ]
  },
  {
   "cell_type": "code",
   "execution_count": 1,
   "id": "6e14e22f-3fb7-4062-88cc-3694265d5b64",
   "metadata": {},
   "outputs": [],
   "source": [
    "# Create a text file & write content\n",
    "file_name = \"data_scientist.txt\"\n",
    "\n",
    "# Open the file in write mode ('w')\n",
    "file = open(file_name, 'w')\n",
    "\n",
    "# Write content to the file\n",
    "file.write(\"I want to become a Data Scientist.\")\n",
    "\n",
    "# Close the file\n",
    "file.close()"
   ]
  },
  {
   "cell_type": "code",
   "execution_count": 2,
   "id": "b8dfac13-bb12-4f0c-8b92-7b239736af2d",
   "metadata": {},
   "outputs": [],
   "source": [
    "#Open the file in read mode ('r')\n",
    "\n",
    "file = open(file_name, 'r')"
   ]
  },
  {
   "cell_type": "code",
   "execution_count": 3,
   "id": "6d465e59-4884-46c7-a74e-4f07049a8186",
   "metadata": {},
   "outputs": [],
   "source": [
    "# Read the contents of the file\n",
    "\n",
    "file_content = file.read()"
   ]
  },
  {
   "cell_type": "code",
   "execution_count": 6,
   "id": "e33e1cb8-d850-4c62-afbd-0b3370a47246",
   "metadata": {},
   "outputs": [],
   "source": [
    "# Close the file\n",
    "\n",
    "file.close()"
   ]
  },
  {
   "cell_type": "code",
   "execution_count": 7,
   "id": "924aefa0-d9f2-47d0-b83e-9a61153f3f75",
   "metadata": {},
   "outputs": [
    {
     "name": "stdout",
     "output_type": "stream",
     "text": [
      "File Content:\n",
      "I want to become a Data Scientist.\n"
     ]
    }
   ],
   "source": [
    "# Print the file content\n",
    "\n",
    "print(\"File Content:\")\n",
    "print(file_content)"
   ]
  },
  {
   "cell_type": "markdown",
   "id": "2c789d60-60ca-427f-bc55-f882bb5c666c",
   "metadata": {},
   "source": [
    "- When you run this program, it will create a file named \"data_scientist.txt\" in the same directory as your Python script. The program will then open the file in write mode, write the specified sentence into the file, close it, open it again in read mode, read the contents, and finally print the content to the console.\n",
    "\n",
    "- Make sure to save the program with a .py extension (e.g., file_operations.py) and run it using a Python interpreter to see the desired output."
   ]
  },
  {
   "cell_type": "markdown",
   "id": "4b77d7bd-43f5-4da5-9935-37ba677a75a9",
   "metadata": {},
   "source": []
  },
  {
   "cell_type": "markdown",
   "id": "78912e50-1e96-4c44-83b0-fe8d31170571",
   "metadata": {},
   "source": [
    "##### Q4. Explain the following with python code: read(), readline() and readlines()."
   ]
  },
  {
   "cell_type": "markdown",
   "id": "80642029-4ec3-4cde-b6b2-df7a4fe74943",
   "metadata": {},
   "source": [
    "Ans:04\n",
    "\n",
    "- In Python, the read(), readline(), and readlines() are methods used to read content from a file. Here's an explanation of each method along with Python code examples:\n",
    "\n",
    "1. read(): This method is used to read the entire contents of a file as a single string. It reads and returns all characters from the current position to the end of the file."
   ]
  },
  {
   "cell_type": "code",
   "execution_count": 8,
   "id": "67989a40-b106-4d7b-8f4b-93c6d75f7dcd",
   "metadata": {},
   "outputs": [],
   "source": [
    "# Open the file in read mode ('r')\n",
    "\n",
    "file = open(\"data_scientist.txt\", 'r')"
   ]
  },
  {
   "cell_type": "code",
   "execution_count": 9,
   "id": "2b65ac06-686c-4dc8-9e01-b0e369bdf60f",
   "metadata": {},
   "outputs": [],
   "source": [
    "# Read the entire content of the file\n",
    "\n",
    "file_content = file.read()"
   ]
  },
  {
   "cell_type": "code",
   "execution_count": 10,
   "id": "10c20c95-ca53-4330-8154-1f7ca48c4306",
   "metadata": {},
   "outputs": [],
   "source": [
    "# Close the file\n",
    "file.close()"
   ]
  },
  {
   "cell_type": "code",
   "execution_count": 11,
   "id": "e6cbfdac-120e-4f6f-8225-c9cd0ea4f2bf",
   "metadata": {},
   "outputs": [
    {
     "name": "stdout",
     "output_type": "stream",
     "text": [
      "File Content:\n",
      "I want to become a Data Scientist.\n"
     ]
    }
   ],
   "source": [
    "# print the file content\n",
    "\n",
    "print(\"File Content:\")\n",
    "print(file_content)"
   ]
  },
  {
   "cell_type": "markdown",
   "id": "68f453cd-0252-42b0-88f3-f82dce8ad4b3",
   "metadata": {},
   "source": [
    "- In this example, the read() method is used to read the entire content of the file \"data_scientist.txt\". The returned content is stored in the file_content variable and then printed to the console."
   ]
  },
  {
   "cell_type": "markdown",
   "id": "48c4c262-aa6a-4416-8408-81e1392e12f6",
   "metadata": {},
   "source": [
    "2. readline(): This method is used to read a single line from the file. Each time readline() is called, it moves the file pointer to the next line."
   ]
  },
  {
   "cell_type": "code",
   "execution_count": 12,
   "id": "4d3eadbd-c56d-4e80-b7fb-a221c131b4cf",
   "metadata": {},
   "outputs": [],
   "source": [
    "# Open the file in read mode ('r')\n",
    "file = open('data_scientist.txt', 'r')\n"
   ]
  },
  {
   "cell_type": "code",
   "execution_count": 13,
   "id": "a2027fba-05c5-4e0a-b232-ea0fd6cb850f",
   "metadata": {},
   "outputs": [],
   "source": [
    "# Read the first line of the file\n",
    "line1 = file.readline()"
   ]
  },
  {
   "cell_type": "code",
   "execution_count": 14,
   "id": "1c136b26-2c2b-4bfc-a0ab-440fe9eaff0d",
   "metadata": {},
   "outputs": [],
   "source": [
    "# Read the second line of the file\n",
    "line2 = file.readline()"
   ]
  },
  {
   "cell_type": "code",
   "execution_count": 15,
   "id": "2db5a44f-d010-4518-989d-b76c321d39ca",
   "metadata": {},
   "outputs": [],
   "source": [
    "# close the file\n",
    "file.close()"
   ]
  },
  {
   "cell_type": "code",
   "execution_count": 16,
   "id": "049f5d7b-cfb3-4e54-8d2b-d616c1e496ac",
   "metadata": {},
   "outputs": [
    {
     "name": "stdout",
     "output_type": "stream",
     "text": [
      "Line 1: I want to become a Data Scientist.\n",
      "Line 2: \n"
     ]
    }
   ],
   "source": [
    "# print the line\n",
    "\n",
    "print(\"Line 1:\", line1)\n",
    "print(\"Line 2:\", line2)"
   ]
  },
  {
   "cell_type": "markdown",
   "id": "6f05cedf-db88-40bf-b306-1df4a5c30afe",
   "metadata": {},
   "source": [
    "- In this example, the readline() method is used to read the first and second lines of the file \"data_scientist.txt\". Each call to readline() moves the file pointer to the next line. The read lines are stored in the line1 and line2 variables and then printed to the console."
   ]
  },
  {
   "cell_type": "markdown",
   "id": "a0a8aacf-41fb-44d6-add2-c7565b2e273e",
   "metadata": {},
   "source": [
    "3. readlines(): This method is used to read all the lines of a file and returns them as a list of strings, where each string represents a line."
   ]
  },
  {
   "cell_type": "code",
   "execution_count": 17,
   "id": "731fd3c7-62dc-4bd4-8da7-aaafef0ca970",
   "metadata": {},
   "outputs": [],
   "source": [
    "# Open the file in read mode ('r')\n",
    "\n",
    "file = open('data_scientist.txt', 'r')"
   ]
  },
  {
   "cell_type": "code",
   "execution_count": 18,
   "id": "2bd70f76-ec44-41c9-b2cf-b13be1111020",
   "metadata": {},
   "outputs": [],
   "source": [
    "# Read all lines of the file\n",
    "lines = file.readlines()"
   ]
  },
  {
   "cell_type": "code",
   "execution_count": 19,
   "id": "77ab01db-cc0d-429a-b532-e37a5f20fe52",
   "metadata": {},
   "outputs": [],
   "source": [
    "# Close the file\n",
    "file.close()"
   ]
  },
  {
   "cell_type": "code",
   "execution_count": 20,
   "id": "19f741f1-2162-4fba-ad0e-1abb02d1c6d8",
   "metadata": {},
   "outputs": [
    {
     "name": "stdout",
     "output_type": "stream",
     "text": [
      "File lines:\n",
      "I want to become a Data Scientist.\n"
     ]
    }
   ],
   "source": [
    "# Print the lines\n",
    "print(\"File lines:\")\n",
    "for line in lines:\n",
    "    print(line)"
   ]
  },
  {
   "cell_type": "markdown",
   "id": "b357dfee-1db7-4adb-8c28-f642a45faadc",
   "metadata": {},
   "source": [
    "- In this example, the readlines() method is used to read all the lines of the file \"data_scientist.txt\". The lines are stored in the lines list, and then each line is printed to the console using a loop.\n",
    "\n",
    "- Note: It's important to close the file after you have finished reading its content to release system resources and ensure data integrity.\n",
    "\n",
    "- Feel free to replace \"data_scientist.txt\" with the actual file name or path that you want to read in the examples above."
   ]
  },
  {
   "cell_type": "markdown",
   "id": "0aa32a0a-ad20-462f-8a3b-6a44a7038bc9",
   "metadata": {},
   "source": []
  },
  {
   "cell_type": "markdown",
   "id": "4e99b93c-f91b-4f50-b99f-b488a5ed962e",
   "metadata": {},
   "source": [
    "##### Q5. Explain why with statement is used with open(). What is the advantage of using with statement and open() together?"
   ]
  },
  {
   "cell_type": "markdown",
   "id": "9570dd3e-9080-486e-986f-db038995a7c3",
   "metadata": {},
   "source": [
    "Ans:05\n",
    "\n",
    "- The with statement in Python is used in conjunction with the open() function to provide a more efficient and safer way of working with files. It ensures that the file is properly closed, even if an exception or error occurs within the block of code. Here's an explanation of why the with statement is used with open() and its advantages:\n",
    "\n",
    "1. Automatic Resource Management: The with statement takes care of automatically managing the resources associated with file handling. It guarantees that the file will be closed when the block of code under the with statement is exited, regardless of whether an exception occurs or not. This helps avoid resource leaks and makes the code more robust.\n",
    "\n",
    "2. Exception Handling: If an exception is raised within the with block, the with statement ensures that the file is closed before propagating the exception. It helps prevent leaving the file open and handles exceptions gracefully. This is particularly useful when working with files, as errors can occur during file operations.\n",
    "\n",
    "3. Concise Syntax: The combination of the with statement and open() function provides a concise and readable syntax. It encapsulates the file handling logic within a single block, making the code more compact and easier to understand.\n",
    "\n",
    "- Here's an example that demonstrates the use of the with statement with open():"
   ]
  },
  {
   "cell_type": "code",
   "execution_count": 21,
   "id": "5c6bedc4-8a31-470f-8758-d19446d6617c",
   "metadata": {},
   "outputs": [
    {
     "name": "stdout",
     "output_type": "stream",
     "text": [
      "File content:\n",
      "I want to become a Data Scientist.\n"
     ]
    }
   ],
   "source": [
    "# Open the file using with statement\n",
    "\n",
    "with open('data_scientist.txt', 'r') as file:\n",
    "    # Perform operations on the file\n",
    "    file_content = file.read()\n",
    "    print(\"File content:\")\n",
    "    print(file_content)\n",
    "    \n",
    "# The file is automatically closed at this point"
   ]
  },
  {
   "cell_type": "markdown",
   "id": "5485832e-7fe9-401c-b661-60b6b53af899",
   "metadata": {},
   "source": [
    "- In this example, the file \"data_scientist.txt\" is opened within the with statement, and the file object is assigned to the file variable. The file operations, such as reading the content and printing it, are performed within the with block. Once the block is exited, either normally or due to an exception, the file is automatically closed, ensuring proper resource management.\n",
    "\n",
    "- The advantage of using the with statement with open() is that it simplifies file handling, promotes good coding practices, and reduces the likelihood of errors related to open file resources. It ensures that files are closed properly, even in the presence of exceptions, making the code more reliable and maintainable."
   ]
  },
  {
   "cell_type": "markdown",
   "id": "425527dc-ad5e-4e27-89fc-311267f9d2bb",
   "metadata": {},
   "source": []
  },
  {
   "cell_type": "markdown",
   "id": "c8d6082a-809d-4060-8a43-fb9de2c16589",
   "metadata": {},
   "source": [
    "##### Q6. Explain the write() and writelines() functions. Give a suitable example."
   ]
  },
  {
   "cell_type": "markdown",
   "id": "6001ff17-3515-4931-bf6f-e9f2a6b34466",
   "metadata": {},
   "source": [
    "Ans:06\n",
    "\n",
    "- The write() and writelines() functions in Python are used to write data to a file. Here's an explanation of each function along with an example:\n",
    "\n",
    "1. write(): This function is used to write a single string or a sequence of characters to a file. It appends the given data at the current position of the file pointer. If the file is opened in write mode ('w') or append mode ('a'), the data is written directly to the file. If the file is opened in a text mode, the data should be a string. If the file is opened in binary mode, the data can be bytes."
   ]
  },
  {
   "cell_type": "code",
   "execution_count": 35,
   "id": "56a65ff7-cfab-4637-84d8-3ea0d5acb76c",
   "metadata": {},
   "outputs": [],
   "source": [
    "# Open the file in write mode ('w')\n",
    "file = open('output.txt', 'w')"
   ]
  },
  {
   "cell_type": "code",
   "execution_count": 36,
   "id": "b8fe0437-8ab1-4f3c-8dcd-cab2e2c1568f",
   "metadata": {},
   "outputs": [
    {
     "data": {
      "text/plain": [
       "14"
      ]
     },
     "execution_count": 36,
     "metadata": {},
     "output_type": "execute_result"
    }
   ],
   "source": [
    "# Write a string to the file\n",
    "file.write(\"Hello, World!\\n\")"
   ]
  },
  {
   "cell_type": "code",
   "execution_count": 37,
   "id": "ae45da73-9c43-4d53-94ba-7143abfd490f",
   "metadata": {},
   "outputs": [
    {
     "data": {
      "text/plain": [
       "16"
      ]
     },
     "execution_count": 37,
     "metadata": {},
     "output_type": "execute_result"
    }
   ],
   "source": [
    "# Write multiple lines to the file\n",
    "file.write(\"This is line 1.\\n\")"
   ]
  },
  {
   "cell_type": "code",
   "execution_count": 38,
   "id": "51d91644-0a79-4c1e-a92e-e8bd467c05ec",
   "metadata": {},
   "outputs": [
    {
     "data": {
      "text/plain": [
       "15"
      ]
     },
     "execution_count": 38,
     "metadata": {},
     "output_type": "execute_result"
    }
   ],
   "source": [
    "file.write(\"This is line 2.\")"
   ]
  },
  {
   "cell_type": "code",
   "execution_count": 39,
   "id": "fca41a2d-f447-4387-93c2-83a9d057236b",
   "metadata": {},
   "outputs": [],
   "source": [
    "# Close the file\n",
    "file.close()"
   ]
  },
  {
   "cell_type": "markdown",
   "id": "90a2a895-17ae-401d-b100-5fedcffb6442",
   "metadata": {},
   "source": [
    "- In this example, the write() function is used to write different strings to the file \"output.txt\". The strings are written to the file sequentially at the current position of the file pointer. After writing the content, the file is closed.\n",
    "\n",
    "- The resulting \"output.txt\" file will contain:\n",
    "\n",
    "Hello, World! \n",
    "\n",
    "This is line 1.\n",
    "\n",
    "This is line 2.\n",
    "\n"
   ]
  },
  {
   "cell_type": "markdown",
   "id": "14d1dde7-c405-4b33-9c97-903b62028de5",
   "metadata": {},
   "source": [
    "2. writelines(): This function is used to write a list of strings or a sequence of strings to a file. Each string is written as a separate line in the file. If the file is opened in text mode, the strings should be provided as a list of strings. If the file is opened in binary mode, the strings can be bytes."
   ]
  },
  {
   "cell_type": "code",
   "execution_count": 41,
   "id": "a2d32ad0-db60-4b3c-8c6a-15ab5f8ebe98",
   "metadata": {},
   "outputs": [],
   "source": [
    "# open the file in write mode 'w'\n",
    "file = open('output.txt', 'w')"
   ]
  },
  {
   "cell_type": "code",
   "execution_count": 42,
   "id": "bc631a0c-44f6-4fd7-8f3b-0ca45161a643",
   "metadata": {},
   "outputs": [],
   "source": [
    "# Write a list of strings as lines to the file\n",
    "lines = [\"Line1\\n\", \"Line2\\n\", \"Line3\\n\"]"
   ]
  },
  {
   "cell_type": "code",
   "execution_count": 43,
   "id": "cbf85aec-9958-4d7c-b527-ecb945f51cdc",
   "metadata": {},
   "outputs": [],
   "source": [
    "file.writelines(lines)"
   ]
  },
  {
   "cell_type": "code",
   "execution_count": 44,
   "id": "beae0de8-ffd7-4ba5-bdd5-c15221cbfa29",
   "metadata": {},
   "outputs": [],
   "source": [
    "# Close the file\n",
    "file.close()"
   ]
  },
  {
   "cell_type": "markdown",
   "id": "381979c5-76cb-479c-88ea-956ea3f350ee",
   "metadata": {},
   "source": [
    "- In this example, the writelines() function is used to write a list of strings as separate lines in the file \"output.txt\". Each string in the lines list is written as a new line at the current position of the file pointer. After writing the content, the file is closed.\n",
    "\n",
    "- The resulting \"output.txt\" file will contain:\n",
    "\n",
    "Line 1\n",
    "\n",
    "Line 2\n",
    "\n",
    "Line 3\n"
   ]
  },
  {
   "cell_type": "markdown",
   "id": "b7ee17ce-6cc1-4a89-b48e-cfe9e3fdd0ba",
   "metadata": {},
   "source": [
    "> It's important to note that both write() and writelines() functions do not automatically add line breaks. If you want to write each item on a new line, you need to explicitly include the line break (\\n) in the string or list of strings.\n",
    "\n",
    "- Remember to handle file closing properly after writing to ensure data integrity and resource management."
   ]
  },
  {
   "cell_type": "markdown",
   "id": "ac4d6520-aae1-4e3b-ab39-cec3eb5d998e",
   "metadata": {},
   "source": []
  }
 ],
 "metadata": {
  "kernelspec": {
   "display_name": "Python 3 (ipykernel)",
   "language": "python",
   "name": "python3"
  },
  "language_info": {
   "codemirror_mode": {
    "name": "ipython",
    "version": 3
   },
   "file_extension": ".py",
   "mimetype": "text/x-python",
   "name": "python",
   "nbconvert_exporter": "python",
   "pygments_lexer": "ipython3",
   "version": "3.10.8"
  }
 },
 "nbformat": 4,
 "nbformat_minor": 5
}
